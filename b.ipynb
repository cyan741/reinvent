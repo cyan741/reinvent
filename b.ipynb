{
 "cells": [
  {
   "cell_type": "code",
   "execution_count": 1,
   "metadata": {},
   "outputs": [],
   "source": [
    "import os\n",
    "import sys\n",
    "from scoring_functions import tanimoto\n",
    "from utils import Variable, seq_to_smiles, unique\n",
    "from rdkit import Chem\n",
    "from rdkit.Chem import Draw\n",
    "from scoring_functions import logP\n",
    "import numpy as np\n",
    "from rdkit import DataStructs\n",
    "from rdkit.Chem import AllChem\n",
    "from rdkit.Chem import Descriptors\n",
    "from typing import List"
   ]
  },
  {
   "cell_type": "code",
   "execution_count": 12,
   "metadata": {},
   "outputs": [],
   "source": [
    "\n",
    "import json\n",
    "from scoring_functions import tanimoto, logP"
   ]
  },
  {
   "cell_type": "code",
   "execution_count": 2,
   "metadata": {},
   "outputs": [],
   "source": [
    "query_structure = \"C1(S(N)(=O)=O)=CC=C(N2C(C3=CC=C(C)C=C3)=CC(C(F)(F)F)=N2)C=C1\""
   ]
  },
  {
   "cell_type": "code",
   "execution_count": 3,
   "metadata": {},
   "outputs": [],
   "source": [
    "\n",
    "def generate(molecules, number_samples: int, seed) -> List[str]:\n",
    "        np.random.seed(seed)\n",
    "        return list(np.random.choice(molecules, size=number_samples))"
   ]
  },
  {
   "cell_type": "code",
   "execution_count": 4,
   "metadata": {},
   "outputs": [],
   "source": [
    "from utils import weighted_geometric_mean\n",
    "def score(smi):\n",
    "    mol = Chem.MolFromSmiles(smi)\n",
    "    if mol is None or len(smi) == 0:\n",
    "        return 0\n",
    "    else:\n",
    "        smi = Chem.MolToSmiles(mol)\n",
    "\n",
    "        alpha = 10.0 \n",
    "        score_qed = Descriptors.qed(mol)\n",
    "\n",
    "        t = tanimoto(query_structure)\n",
    "        score_tanimoto = np.array(t.__call__([smi]))[0]\n",
    "        beta = 10.0\n",
    "        gamma = 1.0\n",
    "        score += beta * score_tanimoto\n",
    "        s= logP()\n",
    "        score_logp = np.array(s.__call__([smi]))[0]\n",
    "        \n",
    "        weights = [alpha, beta, gamma]\n",
    "        values = [score_logp, score_tanimoto, score_qed]\n",
    "        weights = [alpha, beta, gamma]\n",
    "        score = weighted_geometric_mean(values, weights)\n",
    "\n",
    "\n",
    "    return score\n",
    "\n"
   ]
  },
  {
   "cell_type": "code",
   "execution_count": 13,
   "metadata": {},
   "outputs": [],
   "source": [
    "dist_file = \"data/ChEMBL_filtered.smi\"\n",
    "\n",
    "with open(dist_file, 'r') as smiles_file:\n",
    "    smiles_list = [line.strip() for line in smiles_file.readlines()]\n",
    "\n",
    "seeds = [0, 1, 2, 3, 5, 7, 11, 13, 17, 19]#, 23, 29, 31, 37, 41, 43, 47, 53, 59, 61, 67, 71, 73, 79, 83, 89, 97]\n",
    "seed = 0\n",
    "random_100 = generate(smiles_list, 100, seed)\n",
    "  "
   ]
  },
  {
   "cell_type": "code",
   "execution_count": 11,
   "metadata": {},
   "outputs": [],
   "source": [
    "output_file = os.path.join('random_sample100_' +  query_structure + \"_\" + str(seed)+\".json\")"
   ]
  },
  {
   "cell_type": "code",
   "execution_count": 14,
   "metadata": {},
   "outputs": [],
   "source": [
    "def pass_rate(smis, seed, output_file):\n",
    "    sim_pass = 0\n",
    "    logP_pass = 0\n",
    "    qed_pass = 0\n",
    "    sim_min = 1\n",
    "    sim_max = 0\n",
    "    qed_min = 1\n",
    "    qed_max = 0\n",
    "    for smi in smis:\n",
    "            m = Chem.MolFromSmiles(smi)\n",
    "            mq = Chem.MolFromSmiles(query_structure)\n",
    "            t = tanimoto(query_structure)\n",
    "            score_tanimoto = np.array(t.__call__([smi]))\n",
    "            if sim_min > score_tanimoto:\n",
    "                sim_min = score_tanimoto\n",
    "\n",
    "            if sim_max < score_tanimoto:\n",
    "                sim_max = score_tanimoto\n",
    "            s= logP()\n",
    "            score_logp = np.array(s.__call__([smi]))\n",
    "            qed_mq = Descriptors.qed(mq)\n",
    "            qed_m = Descriptors.qed(m)\n",
    "            if qed_min > qed_m:\n",
    "                qed_min = qed_m\n",
    "            if qed_max < qed_m:\n",
    "                qed_max = qed_m\n",
    "            if score_tanimoto > 0.6:\n",
    "                sim_pass += 1\n",
    "            if score_logp == 1.0:\n",
    "                logP_pass += 1\n",
    "            if qed_m > qed_mq:\n",
    "                qed_pass += 1\n",
    "\n",
    "    print(f\"seed:{seed}\")\n",
    "    \n",
    "    with open (output_file, \"r\") as infile:\n",
    "            existing_data = json.load(infile)\n",
    "    existing_data [\"random_sample100_pass_rates\"]= {\n",
    "            \"sim_pass_0.6\": float(sim_pass / 100),\n",
    "            \"sim_low_bound\": float(sim_min),\n",
    "            \"sim_max_bound\": float(sim_max),\n",
    "            \"logP_pass\": float(logP_pass / 100),\n",
    "            \"qed_pass\": float(qed_pass / 100), \n",
    "            \"qed_low_bound\": float(qed_min),\n",
    "            \"qed_max_bound\": float(qed_max)\n",
    "        }\n",
    "    with open(output_file, 'w') as outfile:\n",
    "        json.dump(existing_data, outfile, indent=4)\n"
   ]
  },
  {
   "cell_type": "code",
   "execution_count": 15,
   "metadata": {},
   "outputs": [],
   "source": [
    "def evaluation(smis, seed,output_file):\n",
    "    scores = []\n",
    "    for smile in smis:\n",
    "        s = score(smile)\n",
    "        scores.append(s)\n",
    "\n",
    "    avg_top1 = np.max(scores)\n",
    "    avg_top10 = np.mean(sorted(scores, reverse=True)[:10])\n",
    "    avg_top100 = np.mean(scores)\n",
    "\n",
    "    print(f'random sample 100 from chembl_filtered  '\n",
    "                    f'avg_top1: {avg_top1:.3f} | '\n",
    "                    f'avg_top10: {avg_top10:.3f} | '\n",
    "                    f'avg_top100: {avg_top100:.3f} | '\n",
    "        )\n",
    "    \n",
    "    data = {\"metrics\": {\n",
    "                    \"avg_top1\": avg_top1,\n",
    "                    \"avg_top10\": avg_top10,\n",
    "                    \"avg_top100\": avg_top100,\n",
    "\n",
    "                }}\n",
    "    with open(output_file, 'w') as outfile:\n",
    "        json.dump(data, outfile, indent=4)\n"
   ]
  },
  {
   "cell_type": "code",
   "execution_count": 16,
   "metadata": {},
   "outputs": [
    {
     "name": "stdout",
     "output_type": "stream",
     "text": [
      "can't find this structure\n"
     ]
    },
    {
     "ename": "AttributeError",
     "evalue": "'tanimoto' object has no attribute 'query_fp'",
     "output_type": "error",
     "traceback": [
      "\u001b[0;31m---------------------------------------------------------------------------\u001b[0m",
      "\u001b[0;31mAttributeError\u001b[0m                            Traceback (most recent call last)",
      "Cell \u001b[0;32mIn[16], line 1\u001b[0m\n\u001b[0;32m----> 1\u001b[0m \u001b[43mevaluation\u001b[49m\u001b[43m(\u001b[49m\u001b[43mrandom_100\u001b[49m\u001b[43m,\u001b[49m\u001b[43m \u001b[49m\u001b[43mseed\u001b[49m\u001b[43m,\u001b[49m\u001b[43m \u001b[49m\u001b[43moutput_file\u001b[49m\u001b[43m)\u001b[49m\n",
      "Cell \u001b[0;32mIn[15], line 4\u001b[0m, in \u001b[0;36mevaluation\u001b[0;34m(smis, seed, output_file)\u001b[0m\n\u001b[1;32m      2\u001b[0m scores \u001b[38;5;241m=\u001b[39m []\n\u001b[1;32m      3\u001b[0m \u001b[38;5;28;01mfor\u001b[39;00m smile \u001b[38;5;129;01min\u001b[39;00m smis:\n\u001b[0;32m----> 4\u001b[0m     s \u001b[38;5;241m=\u001b[39m \u001b[43mscore\u001b[49m\u001b[43m(\u001b[49m\u001b[43msmile\u001b[49m\u001b[43m)\u001b[49m\n\u001b[1;32m      5\u001b[0m     scores\u001b[38;5;241m.\u001b[39mappend(s)\n\u001b[1;32m      7\u001b[0m avg_top1 \u001b[38;5;241m=\u001b[39m np\u001b[38;5;241m.\u001b[39mmax(scores)\n",
      "Cell \u001b[0;32mIn[4], line 13\u001b[0m, in \u001b[0;36mscore\u001b[0;34m(smi)\u001b[0m\n\u001b[1;32m     10\u001b[0m score_qed \u001b[38;5;241m=\u001b[39m Descriptors\u001b[38;5;241m.\u001b[39mqed(mol)\n\u001b[1;32m     12\u001b[0m t \u001b[38;5;241m=\u001b[39m tanimoto(query_structure)\n\u001b[0;32m---> 13\u001b[0m score_tanimoto \u001b[38;5;241m=\u001b[39m np\u001b[38;5;241m.\u001b[39marray(\u001b[43mt\u001b[49m\u001b[38;5;241;43m.\u001b[39;49m\u001b[38;5;21;43m__call__\u001b[39;49m\u001b[43m(\u001b[49m\u001b[43m[\u001b[49m\u001b[43msmi\u001b[49m\u001b[43m]\u001b[49m\u001b[43m)\u001b[49m)[\u001b[38;5;241m0\u001b[39m]\n\u001b[1;32m     14\u001b[0m beta \u001b[38;5;241m=\u001b[39m \u001b[38;5;241m10.0\u001b[39m\n\u001b[1;32m     15\u001b[0m gamma \u001b[38;5;241m=\u001b[39m \u001b[38;5;241m1.0\u001b[39m\n",
      "File \u001b[0;32m~/rl/main/reinvent/rl/scoring_functions.py:66\u001b[0m, in \u001b[0;36mtanimoto.__call__\u001b[0;34m(self, smiles)\u001b[0m\n\u001b[1;32m     64\u001b[0m \u001b[38;5;28;01mif\u001b[39;00m mol:\n\u001b[1;32m     65\u001b[0m     fp \u001b[38;5;241m=\u001b[39m AllChem\u001b[38;5;241m.\u001b[39mGetMorganFingerprint(mol, \u001b[38;5;241m2\u001b[39m, useCounts\u001b[38;5;241m=\u001b[39m\u001b[38;5;28;01mTrue\u001b[39;00m, useFeatures\u001b[38;5;241m=\u001b[39m\u001b[38;5;28;01mTrue\u001b[39;00m)\n\u001b[0;32m---> 66\u001b[0m     score \u001b[38;5;241m=\u001b[39m DataStructs\u001b[38;5;241m.\u001b[39mTanimotoSimilarity(\u001b[38;5;28;43mself\u001b[39;49m\u001b[38;5;241;43m.\u001b[39;49m\u001b[43mquery_fp\u001b[49m, fp)\n\u001b[1;32m     67\u001b[0m     score \u001b[38;5;241m=\u001b[39m \u001b[38;5;28mmin\u001b[39m(score, \u001b[38;5;28mself\u001b[39m\u001b[38;5;241m.\u001b[39mk) \u001b[38;5;241m/\u001b[39m \u001b[38;5;28mself\u001b[39m\u001b[38;5;241m.\u001b[39mk\n\u001b[1;32m     68\u001b[0m     \u001b[38;5;66;03m#score = 2 * score -1\u001b[39;00m\n",
      "\u001b[0;31mAttributeError\u001b[0m: 'tanimoto' object has no attribute 'query_fp'"
     ]
    }
   ],
   "source": [
    "evaluation(random_100, seed, output_file)\n"
   ]
  },
  {
   "cell_type": "code",
   "execution_count": null,
   "metadata": {},
   "outputs": [],
   "source": [
    "pass_rate(random_100, seed, output_file)"
   ]
  }
 ],
 "metadata": {
  "kernelspec": {
   "display_name": "base",
   "language": "python",
   "name": "python3"
  },
  "language_info": {
   "codemirror_mode": {
    "name": "ipython",
    "version": 3
   },
   "file_extension": ".py",
   "mimetype": "text/x-python",
   "name": "python",
   "nbconvert_exporter": "python",
   "pygments_lexer": "ipython3",
   "version": "3.8.10"
  }
 },
 "nbformat": 4,
 "nbformat_minor": 2
}
