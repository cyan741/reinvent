{
 "cells": [
  {
   "cell_type": "code",
   "execution_count": 1,
   "metadata": {},
   "outputs": [],
   "source": [
    "import os\n",
    "import sys\n",
    "from scoring_functions import tanimoto\n",
    "from utils import Variable, seq_to_smiles, unique\n",
    "from rdkit import Chem\n",
    "from rdkit.Chem import Draw\n",
    "from scoring_functions import logP\n",
    "import numpy as np\n",
    "from rdkit import DataStructs\n",
    "from rdkit.Chem import AllChem\n",
    "from rdkit.Chem import Descriptors\n",
    "from typing import List"
   ]
  },
  {
   "cell_type": "code",
   "execution_count": 2,
   "metadata": {},
   "outputs": [],
   "source": [
    "\n",
    "import json\n",
    "from scoring_functions import tanimoto, logP"
   ]
  },
  {
   "cell_type": "code",
   "execution_count": 3,
   "metadata": {},
   "outputs": [],
   "source": [
    "query_structure = \"C1(S(N)(=O)=O)=CC=C(N2C(C3=CC=C(C)C=C3)=CC(C(F)(F)F)=N2)C=C1\""
   ]
  },
  {
   "cell_type": "code",
   "execution_count": 4,
   "metadata": {},
   "outputs": [],
   "source": [
    "\n",
    "def generate(molecules, number_samples: int, seed) -> List[str]:\n",
    "        np.random.seed(seed)\n",
    "        return list(np.random.choice(molecules, size=number_samples))"
   ]
  },
  {
   "cell_type": "code",
   "execution_count": 15,
   "metadata": {},
   "outputs": [],
   "source": [
    "from utils import weighted_geometric_mean\n",
    "def score(smi):\n",
    "    mol = Chem.MolFromSmiles(smi)\n",
    "    if mol is None or len(smi) == 0:\n",
    "        return 0\n",
    "    else:\n",
    "        smi = Chem.MolToSmiles(mol)\n",
    "\n",
    "        alpha = 10.0 \n",
    "        score_qed = Descriptors.qed(mol)\n",
    "\n",
    "        t = tanimoto(\"Celebrex\")\n",
    "        score_tanimoto = np.array(t.__call__([smi]))[0]\n",
    "        beta = 10.0\n",
    "        gamma = 1.0\n",
    "\n",
    "        s= logP()\n",
    "        score_logp = np.array(s.__call__([smi]))[0]\n",
    "        \n",
    "        weights = [alpha, beta, gamma]\n",
    "        values = [score_logp, score_tanimoto, score_qed]\n",
    "        s = weighted_geometric_mean(values, weights)\n",
    "\n",
    "\n",
    "    return s\n",
    "\n"
   ]
  },
  {
   "cell_type": "code",
   "execution_count": 6,
   "metadata": {},
   "outputs": [],
   "source": [
    "dist_file = \"data/ChEMBL_filtered.smi\"\n",
    "\n",
    "with open(dist_file, 'r') as smiles_file:\n",
    "    smiles_list = [line.strip() for line in smiles_file.readlines()]\n",
    "\n",
    "\n",
    "  "
   ]
  },
  {
   "cell_type": "code",
   "execution_count": 18,
   "metadata": {},
   "outputs": [],
   "source": [
    "def pass_rate(smis, seed, output_file):\n",
    "    sim_pass = 0\n",
    "    logP_pass = 0\n",
    "    qed_pass = 0\n",
    "    sim_min = 1\n",
    "    sim_max = 0\n",
    "    qed_min = 1\n",
    "    qed_max = 0\n",
    "    for smi in smis:\n",
    "            m = Chem.MolFromSmiles(smi)\n",
    "            mq = Chem.MolFromSmiles(query_structure)\n",
    "            t = tanimoto(\"Celebrex\")\n",
    "            score_tanimoto = np.array(t.__call__([smi]))\n",
    "            if sim_min > score_tanimoto:\n",
    "                sim_min = score_tanimoto\n",
    "\n",
    "            if sim_max < score_tanimoto:\n",
    "                sim_max = score_tanimoto\n",
    "            s= logP()\n",
    "            score_logp = np.array(s.__call__([smi]))\n",
    "            qed_mq = Descriptors.qed(mq)\n",
    "            qed_m = Descriptors.qed(m)\n",
    "            if qed_min > qed_m:\n",
    "                qed_min = qed_m\n",
    "            if qed_max < qed_m:\n",
    "                qed_max = qed_m\n",
    "            if score_tanimoto > 0.6:\n",
    "                sim_pass += 1\n",
    "            if score_logp == 1.0:\n",
    "                logP_pass += 1\n",
    "            if qed_m > qed_mq:\n",
    "                qed_pass += 1\n",
    "\n",
    "    print(f\"seed:{seed}\")\n",
    "    print(f'random sample 100 from chembl_filtered  '\n",
    "                    f'sim_pass_0.6: {float(sim_pass / 100):.3f} | '\n",
    "                    f'sim_low_bound: {float(sim_min):.3f} | '\n",
    "                    f'sim_max_bound: {float(sim_max):.3f} | '\n",
    "                    f'logP_pass: {float(logP_pass / 100):.3f} | '\n",
    "                    f'qed_pass: {float(qed_pass / 100):.3f} | '\n",
    "                    f'qed_low_bound: {float(qed_min):.3f} | '\n",
    "                    f'qed_max_bound: {float(qed_max):.3f} | '\n",
    "        )\n",
    "    with open (output_file, \"r\") as infile:\n",
    "            existing_data = json.load(infile)\n",
    "    existing_data [\"random_sample100_pass_rates\"]= {\n",
    "            \"sim_pass_0.6\": float(sim_pass / 100),\n",
    "            \"sim_low_bound\": float(sim_min),\n",
    "            \"sim_max_bound\": float(sim_max),\n",
    "            \"logP_pass\": float(logP_pass / 100),\n",
    "            \"qed_pass\": float(qed_pass / 100), \n",
    "            \"qed_low_bound\": float(qed_min),\n",
    "            \"qed_max_bound\": float(qed_max)\n",
    "        }\n",
    "    with open(output_file, 'w') as outfile:\n",
    "        json.dump(existing_data, outfile, indent=4)\n"
   ]
  },
  {
   "cell_type": "code",
   "execution_count": 9,
   "metadata": {},
   "outputs": [],
   "source": [
    "def evaluation(smis, seed,output_file):\n",
    "    scores = []\n",
    "    for smile in smis:\n",
    "        s = score(smile)\n",
    "        scores.append(s)\n",
    "\n",
    "    avg_top1 = np.max(scores)\n",
    "    avg_top10 = np.mean(sorted(scores, reverse=True)[:10])\n",
    "    avg_top100 = np.mean(scores)\n",
    "\n",
    "    print(f'random sample 100 from chembl_filtered  '\n",
    "                    f'avg_top1: {avg_top1:.3f} | '\n",
    "                    f'avg_top10: {avg_top10:.3f} | '\n",
    "                    f'avg_top100: {avg_top100:.3f} | '\n",
    "        )\n",
    "    \n",
    "    data = {\"metrics\": {\n",
    "                    \"avg_top1\": avg_top1,\n",
    "                    \"avg_top10\": avg_top10,\n",
    "                    \"avg_top100\": avg_top100,\n",
    "\n",
    "                }}\n",
    "    with open(output_file, 'w') as outfile:\n",
    "        json.dump(data, outfile, indent=4)\n"
   ]
  },
  {
   "cell_type": "code",
   "execution_count": 24,
   "metadata": {},
   "outputs": [
    {
     "name": "stdout",
     "output_type": "stream",
     "text": [
      "random sample 100 from chembl_filtered  avg_top1: 0.745 | avg_top10: 0.688 | avg_top100: 0.257 | \n",
      "seed:0\n",
      "random sample 100 from chembl_filtered  sim_pass_0.6: 0.000 | sim_low_bound: 0.057 | sim_max_bound: 0.564 | logP_pass: 0.450 | qed_pass: 0.210 | qed_low_bound: 0.041 | qed_max_bound: 0.943 | \n",
      "random sample 100 from chembl_filtered  avg_top1: 0.724 | avg_top10: 0.672 | avg_top100: 0.261 | \n",
      "seed:1\n",
      "random sample 100 from chembl_filtered  sim_pass_0.6: 0.010 | sim_low_bound: 0.044 | sim_max_bound: 0.608 | logP_pass: 0.470 | qed_pass: 0.240 | qed_low_bound: 0.166 | qed_max_bound: 0.912 | \n",
      "random sample 100 from chembl_filtered  avg_top1: 0.749 | avg_top10: 0.665 | avg_top100: 0.199 | \n",
      "seed:2\n",
      "random sample 100 from chembl_filtered  sim_pass_0.6: 0.000 | sim_low_bound: 0.046 | sim_max_bound: 0.586 | logP_pass: 0.340 | qed_pass: 0.250 | qed_low_bound: 0.171 | qed_max_bound: 0.929 | \n",
      "random sample 100 from chembl_filtered  avg_top1: 0.752 | avg_top10: 0.689 | avg_top100: 0.231 | \n",
      "seed:3\n",
      "random sample 100 from chembl_filtered  sim_pass_0.6: 0.020 | sim_low_bound: 0.049 | sim_max_bound: 0.614 | logP_pass: 0.400 | qed_pass: 0.310 | qed_low_bound: 0.152 | qed_max_bound: 0.927 | \n",
      "random sample 100 from chembl_filtered  avg_top1: 0.753 | avg_top10: 0.677 | avg_top100: 0.230 | \n",
      "seed:5\n",
      "random sample 100 from chembl_filtered  sim_pass_0.6: 0.020 | sim_low_bound: 0.055 | sim_max_bound: 0.757 | logP_pass: 0.400 | qed_pass: 0.230 | qed_low_bound: 0.197 | qed_max_bound: 0.937 | \n",
      "random sample 100 from chembl_filtered  avg_top1: 0.735 | avg_top10: 0.671 | avg_top100: 0.190 | \n",
      "seed:7\n",
      "random sample 100 from chembl_filtered  sim_pass_0.6: 0.000 | sim_low_bound: 0.026 | sim_max_bound: 0.549 | logP_pass: 0.330 | qed_pass: 0.230 | qed_low_bound: 0.114 | qed_max_bound: 0.938 | \n",
      "random sample 100 from chembl_filtered  avg_top1: 0.787 | avg_top10: 0.685 | avg_top100: 0.206 | \n",
      "seed:11\n",
      "random sample 100 from chembl_filtered  sim_pass_0.6: 0.040 | sim_low_bound: 0.043 | sim_max_bound: 0.683 | logP_pass: 0.360 | qed_pass: 0.240 | qed_low_bound: 0.120 | qed_max_bound: 0.927 | \n",
      "random sample 100 from chembl_filtered  avg_top1: 0.698 | avg_top10: 0.667 | avg_top100: 0.212 | \n",
      "seed:13\n",
      "random sample 100 from chembl_filtered  sim_pass_0.6: 0.020 | sim_low_bound: 0.059 | sim_max_bound: 0.684 | logP_pass: 0.380 | qed_pass: 0.240 | qed_low_bound: 0.034 | qed_max_bound: 0.930 | \n",
      "random sample 100 from chembl_filtered  avg_top1: 0.720 | avg_top10: 0.639 | avg_top100: 0.228 | \n",
      "seed:17\n",
      "random sample 100 from chembl_filtered  sim_pass_0.6: 0.000 | sim_low_bound: 0.055 | sim_max_bound: 0.548 | logP_pass: 0.410 | qed_pass: 0.220 | qed_low_bound: 0.163 | qed_max_bound: 0.940 | \n",
      "random sample 100 from chembl_filtered  avg_top1: 0.724 | avg_top10: 0.673 | avg_top100: 0.244 | \n",
      "seed:19\n",
      "random sample 100 from chembl_filtered  sim_pass_0.6: 0.020 | sim_low_bound: 0.055 | sim_max_bound: 0.753 | logP_pass: 0.430 | qed_pass: 0.300 | qed_low_bound: 0.163 | qed_max_bound: 0.941 | \n"
     ]
    }
   ],
   "source": [
    "seeds = [0, 1, 2, 3, 5, 7, 11, 13, 17, 19]#, 23, 29, 31, 37, 41, 43, 47, 53, 59, 61, 67, 71, 73, 79, 83, 89, 97]\n",
    "for seed in seeds:\n",
    "\n",
    "    random_100 = generate(smiles_list, 100, seed)\n",
    "    output_file = os.path.join('results/random_sample100_' +  \"Celebrex\" + \"_\" + str(seed)+\".json\")\n",
    "    evaluation(random_100, seed, output_file)\n",
    "    pass_rate(random_100, seed, output_file)\n"
   ]
  },
  {
   "cell_type": "code",
   "execution_count": 27,
   "metadata": {},
   "outputs": [
    {
     "name": "stdout",
     "output_type": "stream",
     "text": [
      "random sample 100 from chembl_filtered  avg_top1: 0.990 | avg_top10: 0.988 | avg_top100: 0.958 | \n",
      "seed:19\n",
      "random sample 100 from chembl_filtered  sim_pass_0.6: 1.000 | sim_low_bound: 0.840 | sim_max_bound: 1.000 | logP_pass: 1.000 | qed_pass: 0.340 | qed_low_bound: 0.359 | qed_max_bound: 0.807 | \n"
     ]
    }
   ],
   "source": [
    "output_file = os.path.join('results/best100_' +  \"Celebrex\" + \"_\" + \".json\")\n",
    "smi_scores = []\n",
    "for smi in smiles_list:\n",
    "    smi_scores.append((smi, score(smi)))\n",
    "best100 = sorted(smi_scores, key=lambda x: x[1], reverse=True)[:100]\n",
    "beat_smi_100 = [smi for smi, _ in best100]\n",
    "\n",
    "evaluation(beat_smi_100, seed, output_file)\n",
    "pass_rate(beat_smi_100, seed, output_file)"
   ]
  },
  {
   "cell_type": "code",
   "execution_count": null,
   "metadata": {},
   "outputs": [],
   "source": []
  }
 ],
 "metadata": {
  "kernelspec": {
   "display_name": "base",
   "language": "python",
   "name": "python3"
  },
  "language_info": {
   "codemirror_mode": {
    "name": "ipython",
    "version": 3
   },
   "file_extension": ".py",
   "mimetype": "text/x-python",
   "name": "python",
   "nbconvert_exporter": "python",
   "pygments_lexer": "ipython3",
   "version": "3.8.10"
  }
 },
 "nbformat": 4,
 "nbformat_minor": 2
}
