{
 "cells": [
  {
   "cell_type": "code",
   "execution_count": null,
   "metadata": {},
   "outputs": [],
   "source": [
    "import os\n",
    "import sys\n",
    "from scoring_functions import tanimoto\n",
    "from utils import Variable, seq_to_smiles, unique\n",
    "from rdkit import Chem\n",
    "from rdkit.Chem import Draw\n",
    "from scoring_functions import logP\n",
    "import numpy as np\n",
    "from rdkit import DataStructs\n",
    "from rdkit.Chem import AllChem\n",
    "from rdkit.Chem import Descriptors\n",
    "from typing import List"
   ]
  },
  {
   "cell_type": "code",
   "execution_count": null,
   "metadata": {},
   "outputs": [],
   "source": [
    "\n",
    "def generate(molecules, number_samples: int, seed) -> List[str]:\n",
    "        np.random.seed(seed)\n",
    "        return list(np.random.choice(molecules, size=number_samples))"
   ]
  },
  {
   "cell_type": "code",
   "execution_count": null,
   "metadata": {},
   "outputs": [],
   "source": [
    "def score(smi):\n",
    "    mol = Chem.MolFromSmiles(smi)\n",
    "    if mol is None or len(smi) == 0:\n",
    "        return 0\n",
    "    else:\n",
    "        smi = Chem.MolToSmiles(mol)\n",
    "\n",
    "        score = 0\n",
    "        alpha = 10.0 \n",
    "        score_qed = float(self.evaluator(smi))\n",
    "        t = tanimoto(self.query_structure)\n",
    "        score_tanimoto = np.array(t.__call__([smi]))[0]\n",
    "        beta = 10.0\n",
    "        gamma = 1.0\n",
    "        score += beta * score_tanimoto\n",
    "        s= logP()\n",
    "        score_logp = np.array(s.__call__([smi]))[0]\n",
    "        weights = [alpha, beta, gamma]\n",
    "        score = alpha*score_qed+beta*score_tanimoto+gamma*score_logp\n",
    "        score = score / sum(weights)\n",
    "\n",
    "\n",
    "            self.mol_buffer[smi] = [score, len(self.mol_buffer)+1]\n",
    "    return self.mol_buffer[smi][0]\n",
    "\n"
   ]
  },
  {
   "cell_type": "code",
   "execution_count": null,
   "metadata": {},
   "outputs": [],
   "source": [
    "dist_file = \"data/ChEMBL_filtered.smi\"\n",
    "\n",
    "with open(dist_file, 'r') as smiles_file:\n",
    "    smiles_list = [line.strip() for line in smiles_file.readlines()]\n",
    "\n",
    "seeds = [0, 1, 2, 3, 5, 7, 11, 13, 17, 19]#, 23, 29, 31, 37, 41, 43, 47, 53, 59, 61, 67, 71, 73, 79, 83, 89, 97]\n",
    "\n",
    "for seed in seeds:\n",
    "    \n",
    "    random_100 = generate(smiles_list, 100, seed)\n",
    "  "
   ]
  }
 ],
 "metadata": {
  "kernelspec": {
   "display_name": "base",
   "language": "python",
   "name": "python3"
  },
  "language_info": {
   "name": "python",
   "version": "3.8.10"
  }
 },
 "nbformat": 4,
 "nbformat_minor": 2
}
