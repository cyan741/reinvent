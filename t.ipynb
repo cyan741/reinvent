{
 "cells": [
  {
   "cell_type": "code",
   "execution_count": 2,
   "metadata": {},
   "outputs": [],
   "source": [
    "import os\n",
    "import sys\n",
    "from scoring_functions import tanimoto\n",
    "#from optimizer import Oracle\n",
    "from utils import Variable, seq_to_smiles, unique\n",
    "from tdc import Oracle\n",
    "from rdkit import Chem\n",
    "from rdkit.Chem import Draw\n",
    "from scoring_functions import logP\n",
    "import numpy as np\n",
    "from rdkit import DataStructs\n",
    "from rdkit.Chem import AllChem\n",
    "from rdkit.Chem import Descriptors"
   ]
  },
  {
   "cell_type": "code",
   "execution_count": null,
   "metadata": {},
   "outputs": [],
   "source": [
    "from rdkit import DataStructs\n",
    "from rdkit.Chem import AllChem\n",
    "\n",
    "smi1 = \"c1ccc(cc1)c2cc(nn2c3ccc(cc3)S(=O)(=O)N)C(F)(F)F\"\n",
    "m1 = Chem.MolFromSmiles(smi1)\n",
    "smi2 = \"O=S(=O)(Nc1cnccc1C(F)(F)F)c1ccccc1\"\n",
    "m2 = Chem.MolFromSmiles(smi2)\n",
    "fp1 = AllChem.GetMorganFingerprint(m1, 2, useCounts=True, useFeatures=True)\n",
    "fp2 = AllChem.GetMorganFingerprint(m2, 2, useCounts=True, useFeatures=True)\n",
    "score = DataStructs.TanimotoSimilarity(fp1, fp2)\n"
   ]
  },
  {
   "cell_type": "code",
   "execution_count": null,
   "metadata": {},
   "outputs": [
    {
     "name": "stdout",
     "output_type": "stream",
     "text": [
      "0.47619047619047616\n"
     ]
    }
   ],
   "source": [
    "print(score)"
   ]
  },
  {
   "cell_type": "code",
   "execution_count": null,
   "metadata": {},
   "outputs": [],
   "source": [
    "score = min(score, 0.7) / 0.7"
   ]
  },
  {
   "cell_type": "code",
   "execution_count": null,
   "metadata": {},
   "outputs": [
    {
     "data": {
      "text/plain": [
       "0.6802721088435374"
      ]
     },
     "execution_count": 11,
     "metadata": {},
     "output_type": "execute_result"
    }
   ],
   "source": [
    "score"
   ]
  },
  {
   "cell_type": "code",
   "execution_count": null,
   "metadata": {},
   "outputs": [
    {
     "data": {
      "text/plain": [
       "[0.7721421737961394, 0.9480925742394771]"
      ]
     },
     "execution_count": 12,
     "metadata": {},
     "output_type": "execute_result"
    }
   ],
   "source": [
    "oracle = Oracle(name = 'QED')\n",
    "oracle([smi1,smi2])"
   ]
  },
  {
   "cell_type": "code",
   "execution_count": null,
   "metadata": {},
   "outputs": [
    {
     "name": "stderr",
     "output_type": "stream",
     "text": [
      "Found local copy...\n"
     ]
    },
    {
     "data": {
      "text/plain": [
       "[1.8448273254812726, 1.6969031661299834]"
      ]
     },
     "execution_count": 13,
     "metadata": {},
     "output_type": "execute_result"
    }
   ],
   "source": [
    "oracle = Oracle(name = 'LogP')\n",
    "oracle([smi1,smi2])"
   ]
  },
  {
   "cell_type": "code",
   "execution_count": null,
   "metadata": {},
   "outputs": [
    {
     "data": {
      "text/plain": [
       "2.126496327138913"
      ]
     },
     "execution_count": 14,
     "metadata": {},
     "output_type": "execute_result"
    }
   ],
   "source": [
    "oracle('CC(C)(C)[C@H]1CCc2c(sc(NC(=O)COc3ccc(Cl)cc3)c2C(N)=O)C1')"
   ]
  },
  {
   "cell_type": "code",
   "execution_count": null,
   "metadata": {},
   "outputs": [],
   "source": [
    "from rdkit.Chem import Descriptors"
   ]
  },
  {
   "cell_type": "code",
   "execution_count": null,
   "metadata": {},
   "outputs": [],
   "source": [
    "m = Chem.MolFromSmiles('CC(C)(C)[C@H]1CCc2c(sc(NC(=O)COc3ccc(Cl)cc3)c2C(N)=O)C1')\n",
    "logp_m=Descriptors.MolLogP(m)"
   ]
  },
  {
   "cell_type": "code",
   "execution_count": null,
   "metadata": {},
   "outputs": [
    {
     "data": {
      "text/plain": [
       "4.668900000000003"
      ]
     },
     "execution_count": 17,
     "metadata": {},
     "output_type": "execute_result"
    }
   ],
   "source": [
    "logp_m"
   ]
  },
  {
   "cell_type": "code",
   "execution_count": null,
   "metadata": {},
   "outputs": [
    {
     "name": "stdout",
     "output_type": "stream",
     "text": [
      "3.2055000000000007\n",
      "2.901200000000001\n"
     ]
    }
   ],
   "source": [
    "print(Descriptors.MolLogP(m1))\n",
    "print(Descriptors.MolLogP(m2))"
   ]
  },
  {
   "cell_type": "code",
   "execution_count": null,
   "metadata": {},
   "outputs": [
    {
     "name": "stdout",
     "output_type": "stream",
     "text": [
      "{'MaxAbsEStateIndex': 12.35634470094622, 'MaxEStateIndex': 12.35634470094622, 'MinAbsEStateIndex': 0.1597052941546988, 'MinEStateIndex': -0.4994182518686483, 'qed': 0.7369335974098528, 'SPS': 16.357142857142858, 'MolWt': 420.9620000000001, 'HeavyAtomMolWt': 395.76200000000017, 'ExactMolWt': 420.12744134, 'NumValenceElectrons': 150, 'NumRadicalElectrons': 0, 'MaxPartialCharge': 0.26242636944321274, 'MinPartialCharge': -0.48377161048632433, 'MaxAbsPartialCharge': 0.48377161048632433, 'MinAbsPartialCharge': 0.26242636944321274, 'FpDensityMorgan1': 1.2857142857142858, 'FpDensityMorgan2': 1.9642857142857142, 'FpDensityMorgan3': 2.5714285714285716, 'BCUT2D_MWHI': 35.49569209210921, 'BCUT2D_MWLOW': 9.720124700858268, 'BCUT2D_CHGHI': 2.3307633230082234, 'BCUT2D_CHGLO': -2.3339435530835377, 'BCUT2D_LOGPHI': 2.4363547242236874, 'BCUT2D_LOGPLOW': -2.268891901625434, 'BCUT2D_MRHI': 7.165448059463342, 'BCUT2D_MRLOW': -0.11761322142325031, 'AvgIpc': 2.9712366647565758, 'BalabanJ': 1.7271429924536323, 'BertzCT': 884.2910361248462, 'Chi0': 20.47432701575866, 'Chi0n': 16.303486374748626, 'Chi0v': 17.875911901694806, 'Chi1': 13.146885611180736, 'Chi1n': 9.274152324202175, 'Chi1v': 10.46861337813913, 'Chi2n': 8.168686442868504, 'Chi2v': 9.710293938863021, 'Chi3n': 5.172945651695985, 'Chi3v': 6.594698276608707, 'Chi4n': 3.516242477299725, 'Chi4v': 4.9911926478974316, 'HallKierAlpha': -2.049999999999999, 'Ipc': 1545221.3398733048, 'Kappa1': 20.678300280657062, 'Kappa2': 8.13237984091965, 'Kappa3': 4.674119308471073, 'LabuteASA': 173.7670012379028, 'PEOE_VSA1': 15.787319034968565, 'PEOE_VSA10': 10.750593809971772, 'PEOE_VSA11': 6.606881964512918, 'PEOE_VSA12': 0.0, 'PEOE_VSA13': 11.814359458703011, 'PEOE_VSA14': 0.0, 'PEOE_VSA2': 9.589074368143644, 'PEOE_VSA3': 0.0, 'PEOE_VSA4': 0.0, 'PEOE_VSA5': 11.336785877934737, 'PEOE_VSA6': 32.372151489304386, 'PEOE_VSA7': 60.42428114987963, 'PEOE_VSA8': 9.899780507442626, 'PEOE_VSA9': 5.563451491696996, 'SMR_VSA1': 14.325937321943691, 'SMR_VSA10': 39.75316720355813, 'SMR_VSA2': 0.0, 'SMR_VSA3': 0.0, 'SMR_VSA4': 17.066563992720358, 'SMR_VSA5': 40.0336764678499, 'SMR_VSA6': 11.923670568519249, 'SMR_VSA7': 45.292151764683055, 'SMR_VSA8': 0.0, 'SMR_VSA9': 5.749511833283905, 'SlogP_VSA1': 15.787319034968565, 'SlogP_VSA10': 5.001081976687867, 'SlogP_VSA11': 5.749511833283905, 'SlogP_VSA12': 22.937725768167255, 'SlogP_VSA2': 18.42124142321593, 'SlogP_VSA3': 17.63618042992384, 'SlogP_VSA4': 11.332896515558172, 'SlogP_VSA5': 47.99062058316499, 'SlogP_VSA6': 24.26546827384644, 'SlogP_VSA7': 5.022633313741326, 'SlogP_VSA8': 0.0, 'SlogP_VSA9': 0.0, 'TPSA': 81.41999999999999, 'EState_VSA1': 5.907179729351506, 'EState_VSA10': 9.589074368143644, 'EState_VSA11': 0.0, 'EState_VSA2': 17.929052163261204, 'EState_VSA3': 27.254584661571485, 'EState_VSA4': 29.703063554176325, 'EState_VSA5': 11.336785877934737, 'EState_VSA6': 24.26546827384644, 'EState_VSA7': 0.0, 'EState_VSA8': 26.088000203078202, 'EState_VSA9': 22.071470321194752, 'VSA_EState1': 5.476909260439203, 'VSA_EState10': 7.295836530363074, 'VSA_EState2': 25.563325868920124, 'VSA_EState3': 3.934564209273332, 'VSA_EState4': 7.273552414943317, 'VSA_EState5': 0.25775967634121644, 'VSA_EState6': 6.777553739234767, 'VSA_EState7': 2.726876347667258, 'VSA_EState8': 6.554733063928816, 'VSA_EState9': 0.0, 'FractionCSP3': 0.42857142857142855, 'HeavyAtomCount': 28, 'NHOHCount': 3, 'NOCount': 5, 'NumAliphaticCarbocycles': 1, 'NumAliphaticHeterocycles': 0, 'NumAliphaticRings': 1, 'NumAromaticCarbocycles': 1, 'NumAromaticHeterocycles': 1, 'NumAromaticRings': 2, 'NumHAcceptors': 4, 'NumHDonors': 2, 'NumHeteroatoms': 7, 'NumRotatableBonds': 5, 'NumSaturatedCarbocycles': 0, 'NumSaturatedHeterocycles': 0, 'NumSaturatedRings': 0, 'RingCount': 3, 'MolLogP': 4.668900000000003, 'MolMR': 113.38360000000004, 'fr_Al_COO': 0, 'fr_Al_OH': 0, 'fr_Al_OH_noTert': 0, 'fr_ArN': 0, 'fr_Ar_COO': 0, 'fr_Ar_N': 0, 'fr_Ar_NH': 0, 'fr_Ar_OH': 0, 'fr_COO': 0, 'fr_COO2': 0, 'fr_C_O': 2, 'fr_C_O_noCOO': 2, 'fr_C_S': 0, 'fr_HOCCN': 0, 'fr_Imine': 0, 'fr_NH0': 0, 'fr_NH1': 1, 'fr_NH2': 1, 'fr_N_O': 0, 'fr_Ndealkylation1': 0, 'fr_Ndealkylation2': 0, 'fr_Nhpyrrole': 0, 'fr_SH': 0, 'fr_aldehyde': 0, 'fr_alkyl_carbamate': 0, 'fr_alkyl_halide': 0, 'fr_allylic_oxid': 0, 'fr_amide': 2, 'fr_amidine': 0, 'fr_aniline': 1, 'fr_aryl_methyl': 0, 'fr_azide': 0, 'fr_azo': 0, 'fr_barbitur': 0, 'fr_benzene': 1, 'fr_benzodiazepine': 0, 'fr_bicyclic': 1, 'fr_diazo': 0, 'fr_dihydropyridine': 0, 'fr_epoxide': 0, 'fr_ester': 0, 'fr_ether': 1, 'fr_furan': 0, 'fr_guanido': 0, 'fr_halogen': 1, 'fr_hdrzine': 0, 'fr_hdrzone': 0, 'fr_imidazole': 0, 'fr_imide': 0, 'fr_isocyan': 0, 'fr_isothiocyan': 0, 'fr_ketone': 0, 'fr_ketone_Topliss': 0, 'fr_lactam': 0, 'fr_lactone': 0, 'fr_methoxy': 0, 'fr_morpholine': 0, 'fr_nitrile': 0, 'fr_nitro': 0, 'fr_nitro_arom': 0, 'fr_nitro_arom_nonortho': 0, 'fr_nitroso': 0, 'fr_oxazole': 0, 'fr_oxime': 0, 'fr_para_hydroxylation': 0, 'fr_phenol': 0, 'fr_phenol_noOrthoHbond': 0, 'fr_phos_acid': 0, 'fr_phos_ester': 0, 'fr_piperdine': 0, 'fr_piperzine': 0, 'fr_priamide': 1, 'fr_prisulfonamd': 0, 'fr_pyridine': 0, 'fr_quatN': 0, 'fr_sulfide': 0, 'fr_sulfonamd': 0, 'fr_sulfone': 0, 'fr_term_acetylene': 0, 'fr_tetrazole': 0, 'fr_thiazole': 0, 'fr_thiocyan': 0, 'fr_thiophene': 1, 'fr_unbrch_alkane': 0, 'fr_urea': 0}\n"
     ]
    }
   ],
   "source": [
    "vals = Descriptors.CalcMolDescriptors(m)\n",
    "print(vals)"
   ]
  },
  {
   "cell_type": "code",
   "execution_count": null,
   "metadata": {},
   "outputs": [
    {
     "data": {
      "text/plain": [
       "0.7369335974098528"
      ]
     },
     "execution_count": 20,
     "metadata": {},
     "output_type": "execute_result"
    }
   ],
   "source": [
    "oracle = Oracle(name = 'QED')\n",
    "oracle('CC(C)(C)[C@H]1CCc2c(sc(NC(=O)COc3ccc(Cl)cc3)c2C(N)=O)C1')"
   ]
  },
  {
   "cell_type": "code",
   "execution_count": null,
   "metadata": {},
   "outputs": [],
   "source": [
    "from scoring_functions import logP\n",
    "scores = logP()\n",
    "s = scores.__call__([smi1,smi2])\n"
   ]
  },
  {
   "cell_type": "code",
   "execution_count": null,
   "metadata": {},
   "outputs": [
    {
     "name": "stdout",
     "output_type": "stream",
     "text": [
      "[0.0, 1.0]\n"
     ]
    }
   ],
   "source": [
    "print(s)"
   ]
  },
  {
   "cell_type": "code",
   "execution_count": null,
   "metadata": {},
   "outputs": [
    {
     "name": "stdout",
     "output_type": "stream",
     "text": [
      "[0.0]\n"
     ]
    }
   ],
   "source": [
    "s = scores.__call__(['CC(C)(C)[C@H]1CCc2c(sc(NC(=O)COc3ccc(Cl)cc3)c2C(N)=O)C1'])\n",
    "print(s)"
   ]
  },
  {
   "cell_type": "code",
   "execution_count": null,
   "metadata": {},
   "outputs": [
    {
     "name": "stdout",
     "output_type": "stream",
     "text": [
      "[0.]\n",
      "3.5139200000000015\n"
     ]
    }
   ],
   "source": [
    "smi3 = \"Cc1ccc(cc1)c2cc(nn2c3ccc(cc3)S(=O)(=O)N)C(F)(F)F\"\n",
    "s = np.array(scores.__call__([smi3]))\n",
    "print(s)\n",
    "m = Chem.MolFromSmiles(smi3)\n",
    "logp_m=Descriptors.MolLogP(m)\n",
    "print(logp_m)"
   ]
  },
  {
   "cell_type": "code",
   "execution_count": null,
   "metadata": {},
   "outputs": [
    {
     "name": "stdout",
     "output_type": "stream",
     "text": [
      "[-0.13746631]\n"
     ]
    }
   ],
   "source": [
    "from scoring_functions import tanimoto\n",
    "import numpy as np\n",
    "t = tanimoto()\n",
    "score_tanimoto = np.array(t.__call__([smi3]))\n",
    "print(score_tanimoto)\n"
   ]
  },
  {
   "cell_type": "code",
   "execution_count": null,
   "metadata": {},
   "outputs": [],
   "source": [
    "smi4 = \"Cc1cccc(S(=O)(=O)NC(=O)c2cc(C)ccc2C)c1\"\n",
    "m4 = Chem.MolFromSmiles(smi4)\n",
    "img4 = Draw.MolToImage(m4)\n"
   ]
  },
  {
   "cell_type": "code",
   "execution_count": null,
   "metadata": {},
   "outputs": [
    {
     "data": {
      "image/jpeg": "[encoded data removed]",
      "image/png": "[encoded data removed]",
      "text/plain": [
       "<PIL.PngImagePlugin.PngImageFile image mode=RGB size=300x300>"
      ]
     },
     "execution_count": 27,
     "metadata": {},
     "output_type": "execute_result"
    }
   ],
   "source": [
    "img4"
   ]
  },
  {
   "cell_type": "code",
   "execution_count": null,
   "metadata": {},
   "outputs": [
    {
     "data": {
      "image/jpeg": "[encoded data removed]",
      "image/png": "[encoded data removed]",
      "text/plain": [
       "<PIL.PngImagePlugin.PngImageFile image mode=RGB size=300x300>"
      ]
     },
     "execution_count": 46,
     "metadata": {},
     "output_type": "execute_result"
    }
   ],
   "source": [
    "smi_q = \"C1(S(N)(=O)=O)=CC=C(N2C(C3=CC=C(C)C=C3)=CC(C(F)(F)F)=N2)C=C1\"\n",
    "smi5 = \"NC(=O)c1ccc2occ(CC(=O)Nc3ccccc3F)c2c1\"\n",
    "\n",
    "mq = Chem.MolFromSmiles(smi_q)\n",
    "img_q = Draw.MolToImage(mq)\n",
    "img_q"
   ]
  },
  {
   "cell_type": "code",
   "execution_count": null,
   "metadata": {},
   "outputs": [
    {
     "data": {
      "image/jpeg": "[encoded data removed]",
      "image/png": "[encoded data removed]",
      "text/plain": [
       "<PIL.PngImagePlugin.PngImageFile image mode=RGB size=300x300>"
      ]
     },
     "execution_count": 41,
     "metadata": {},
     "output_type": "execute_result"
    }
   ],
   "source": [
    "m5 = Chem.MolFromSmiles(smi5)\n",
    "img5 = Draw.MolToImage(m5)\n",
    "img5"
   ]
  },
  {
   "cell_type": "code",
   "execution_count": null,
   "metadata": {},
   "outputs": [],
   "source": [
    "fp1 = AllChem.GetMorganFingerprint(mq, 2, useCounts=True, useFeatures=True)\n",
    "fp2 = AllChem.GetMorganFingerprint(m5, 2, useCounts=True, useFeatures=True)\n",
    "score = DataStructs.TanimotoSimilarity(fp1, fp2)"
   ]
  },
  {
   "cell_type": "code",
   "execution_count": null,
   "metadata": {},
   "outputs": [
    {
     "name": "stdout",
     "output_type": "stream",
     "text": [
      "0.7837837837837838\n"
     ]
    }
   ],
   "source": [
    "print(score)"
   ]
  },
  {
   "cell_type": "code",
   "execution_count": null,
   "metadata": {},
   "outputs": [
    {
     "name": "stdout",
     "output_type": "stream",
     "text": [
      "5.050600000000004\n",
      "2.852000000000001\n"
     ]
    }
   ],
   "source": [
    "print(Descriptors.MolLogP(mq))\n",
    "print(Descriptors.MolLogP(m5))"
   ]
  },
  {
   "cell_type": "code",
   "execution_count": null,
   "metadata": {},
   "outputs": [
    {
     "data": {
      "text/plain": [
       "[0.7764902713770766, 0.7319008436872338]"
      ]
     },
     "execution_count": 45,
     "metadata": {},
     "output_type": "execute_result"
    }
   ],
   "source": [
    "oracle = Oracle(name = 'QED')\n",
    "oracle([smi5,smi_q])"
   ]
  },
  {
   "cell_type": "code",
   "execution_count": 9,
   "metadata": {},
   "outputs": [
    {
     "data": {
      "image/jpeg": "[encoded data removed]",
      "image/png": "[encoded data removed]",
      "text/plain": [
       "<PIL.PngImagePlugin.PngImageFile image mode=RGB size=300x300>"
      ]
     },
     "execution_count": 9,
     "metadata": {},
     "output_type": "execute_result"
    }
   ],
   "source": [
    "Fexofenadine = \"CC(C)(C1=CC=C(C=C1)C(CCCN2CCC(CC2)C(C3=CC=CC=C3)(C4=CC=CC=C4)O)O)C(=O)O\"\n",
    "\n",
    "smi = '[N-]C(O)c1cccc(CN2CCC(C(O)(c3ccccc3)c3ccccc3)CC2)c1'\n",
    "mq = Chem.MolFromSmiles(Fexofenadine)\n",
    "img_q = Draw.MolToImage(mq)\n",
    "img_q"
   ]
  },
  {
   "cell_type": "code",
   "execution_count": 10,
   "metadata": {},
   "outputs": [
    {
     "ename": "ValueError",
     "evalue": "Null molecule provided",
     "output_type": "error",
     "traceback": [
      "\u001b[0;31m---------------------------------------------------------------------------\u001b[0m",
      "\u001b[0;31mValueError\u001b[0m                                Traceback (most recent call last)",
      "Cell \u001b[0;32mIn[10], line 2\u001b[0m\n\u001b[1;32m      1\u001b[0m m \u001b[38;5;241m=\u001b[39m Chem\u001b[38;5;241m.\u001b[39mMolFromSmiles(smi)\n\u001b[0;32m----> 2\u001b[0m img \u001b[38;5;241m=\u001b[39m \u001b[43mDraw\u001b[49m\u001b[38;5;241;43m.\u001b[39;49m\u001b[43mMolToImage\u001b[49m\u001b[43m(\u001b[49m\u001b[43mm\u001b[49m\u001b[43m)\u001b[49m\n\u001b[1;32m      3\u001b[0m img\n",
      "File \u001b[0;32m~/miniconda3/envs/pytorch3.9/lib/python3.9/site-packages/rdkit/Chem/Draw/__init__.py:233\u001b[0m, in \u001b[0;36mMolToImage\u001b[0;34m(mol, size, kekulize, wedgeBonds, fitImage, options, canvas, **kwargs)\u001b[0m\n\u001b[1;32m    203\u001b[0m \u001b[38;5;250m\u001b[39m\u001b[38;5;124;03m\"\"\"Returns a PIL image containing a drawing of the molecule\u001b[39;00m\n\u001b[1;32m    204\u001b[0m \n\u001b[1;32m    205\u001b[0m \u001b[38;5;124;03m    ARGUMENTS:\u001b[39;00m\n\u001b[0;32m   (...)\u001b[0m\n\u001b[1;32m    230\u001b[0m \u001b[38;5;124;03m      a PIL Image object\u001b[39;00m\n\u001b[1;32m    231\u001b[0m \u001b[38;5;124;03m\"\"\"\u001b[39;00m\n\u001b[1;32m    232\u001b[0m \u001b[38;5;28;01mif\u001b[39;00m \u001b[38;5;129;01mnot\u001b[39;00m mol:\n\u001b[0;32m--> 233\u001b[0m   \u001b[38;5;28;01mraise\u001b[39;00m \u001b[38;5;167;01mValueError\u001b[39;00m(\u001b[38;5;124m'\u001b[39m\u001b[38;5;124mNull molecule provided\u001b[39m\u001b[38;5;124m'\u001b[39m)\n\u001b[1;32m    234\u001b[0m \u001b[38;5;28;01mif\u001b[39;00m canvas \u001b[38;5;129;01mis\u001b[39;00m \u001b[38;5;129;01mnot\u001b[39;00m \u001b[38;5;28;01mNone\u001b[39;00m \u001b[38;5;129;01mor\u001b[39;00m \u001b[38;5;129;01mnot\u001b[39;00m \u001b[38;5;28mhasattr\u001b[39m(rdMolDraw2D, \u001b[38;5;124m'\u001b[39m\u001b[38;5;124mMolDraw2DCairo\u001b[39m\u001b[38;5;124m'\u001b[39m):\n\u001b[1;32m    235\u001b[0m   \u001b[38;5;28;01mreturn\u001b[39;00m _legacyMolToImage(mol, size, kekulize, wedgeBonds, fitImage, options, canvas, \u001b[38;5;241m*\u001b[39m\u001b[38;5;241m*\u001b[39mkwargs)\n",
      "\u001b[0;31mValueError\u001b[0m: Null molecule provided"
     ]
    }
   ],
   "source": [
    "m = Chem.MolFromSmiles(smi)\n",
    "img = Draw.MolToImage(m)\n",
    "img"
   ]
  },
  {
   "cell_type": "code",
   "execution_count": 6,
   "metadata": {},
   "outputs": [
    {
     "name": "stdout",
     "output_type": "stream",
     "text": [
      "0.7142857142857143\n"
     ]
    }
   ],
   "source": [
    "fp1 = AllChem.GetMorganFingerprint(mq, 2, useCounts=True, useFeatures=True)\n",
    "fp2 = AllChem.GetMorganFingerprint(m, 2, useCounts=True, useFeatures=True)\n",
    "score = DataStructs.TanimotoSimilarity(fp1, fp2)\n",
    "print(score)"
   ]
  },
  {
   "cell_type": "code",
   "execution_count": 7,
   "metadata": {},
   "outputs": [
    {
     "name": "stdout",
     "output_type": "stream",
     "text": [
      "5.5105000000000075\n",
      "4.663600000000004\n"
     ]
    }
   ],
   "source": [
    "print(Descriptors.MolLogP(mq))\n",
    "print(Descriptors.MolLogP(m))"
   ]
  },
  {
   "cell_type": "code",
   "execution_count": 8,
   "metadata": {},
   "outputs": [
    {
     "data": {
      "text/plain": [
       "[0.341305921033457, 0.632205610774712]"
      ]
     },
     "execution_count": 8,
     "metadata": {},
     "output_type": "execute_result"
    }
   ],
   "source": [
    "oracle = Oracle(name = 'QED')\n",
    "oracle([Fexofenadine,smi])"
   ]
  }
 ],
 "metadata": {
  "kernelspec": {
   "display_name": "pytorch3.9",
   "language": "python",
   "name": "python3"
  },
  "language_info": {
   "codemirror_mode": {
    "name": "ipython",
    "version": 3
   },
   "file_extension": ".py",
   "mimetype": "text/x-python",
   "name": "python",
   "nbconvert_exporter": "python",
   "pygments_lexer": "ipython3",
   "version": "3.9.18"
  }
 },
 "nbformat": 4,
 "nbformat_minor": 2
}
